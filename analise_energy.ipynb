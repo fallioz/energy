{
 "cells": [
  {
   "cell_type": "markdown",
   "metadata": {},
   "source": [
    "# Análise dos dados de Energia e CO2"
   ]
  },
  {
   "cell_type": "code",
   "execution_count": 38,
   "metadata": {},
   "outputs": [],
   "source": [
    "import pandas as pd\n",
    "import numpy as np\n",
    "import plotly.express as px\n",
    "\n",
    "import matplotlib.pyplot as plt\n",
    "import seaborn as sns\n",
    "\n",
    "from pmdarima.arima import auto_arima\n",
    "from pmdarima import arima\n",
    "from pmdarima.utils import tsdisplay, autocorr_plot, decomposed_plot, plot_acf, plot_pacf\n",
    "from matplotlib.pyplot import rcParams\n",
    "rcParams['figure.figsize']=15,6\n",
    "from pmdarima.arima import ADFTest\n",
    "from statsmodels.tsa.statespace.sarimax import SARIMAX\n",
    "from statsmodels.stats.stattools import jarque_bera"
   ]
  },
  {
   "cell_type": "code",
   "execution_count": 2,
   "metadata": {},
   "outputs": [],
   "source": [
    "dados = pd.read_csv(\"EnergyData1.csv\", parse_dates= ['Year'])"
   ]
  },
  {
   "cell_type": "code",
   "execution_count": 3,
   "metadata": {},
   "outputs": [
    {
     "data": {
      "text/html": [
       "<div>\n",
       "<style scoped>\n",
       "    .dataframe tbody tr th:only-of-type {\n",
       "        vertical-align: middle;\n",
       "    }\n",
       "\n",
       "    .dataframe tbody tr th {\n",
       "        vertical-align: top;\n",
       "    }\n",
       "\n",
       "    .dataframe thead th {\n",
       "        text-align: right;\n",
       "    }\n",
       "</style>\n",
       "<table border=\"1\" class=\"dataframe\">\n",
       "  <thead>\n",
       "    <tr style=\"text-align: right;\">\n",
       "      <th></th>\n",
       "      <th>Year</th>\n",
       "      <th>Energy Related CO2missions (Gigatonnes)</th>\n",
       "      <th>Oil Production (Million barrels per day)</th>\n",
       "      <th>Natural Gas Production (Billion Cubic Metres)</th>\n",
       "      <th>Coal Production (million tons)</th>\n",
       "      <th>Electricity Generation (Terawatt-hours)</th>\n",
       "      <th>Hydroelectricity consumption in TWh</th>\n",
       "      <th>Nuclear energy consumption in TWh</th>\n",
       "      <th>Installed Solar Capacity (GW)</th>\n",
       "      <th>Installed Wind Capacity in GW</th>\n",
       "    </tr>\n",
       "  </thead>\n",
       "  <tbody>\n",
       "    <tr>\n",
       "      <th>0</th>\n",
       "      <td>1991-01-01</td>\n",
       "      <td>20.6</td>\n",
       "      <td>65.44</td>\n",
       "      <td>2026.8</td>\n",
       "      <td>4481.0</td>\n",
       "      <td>12,218</td>\n",
       "      <td>2247.96</td>\n",
       "      <td>2089.56</td>\n",
       "      <td>NaN</td>\n",
       "      <td>1.93</td>\n",
       "    </tr>\n",
       "    <tr>\n",
       "      <th>1</th>\n",
       "      <td>1992-01-01</td>\n",
       "      <td>20.5</td>\n",
       "      <td>65.71</td>\n",
       "      <td>2039.4</td>\n",
       "      <td>4432.0</td>\n",
       "      <td>12,330</td>\n",
       "      <td>2240.48</td>\n",
       "      <td>2105.40</td>\n",
       "      <td>NaN</td>\n",
       "      <td>2.17</td>\n",
       "    </tr>\n",
       "    <tr>\n",
       "      <th>2</th>\n",
       "      <td>1993-01-01</td>\n",
       "      <td>20.6</td>\n",
       "      <td>65.99</td>\n",
       "      <td>2073.5</td>\n",
       "      <td>4327.0</td>\n",
       "      <td>12,592</td>\n",
       "      <td>2364.56</td>\n",
       "      <td>2179.32</td>\n",
       "      <td>NaN</td>\n",
       "      <td>2.50</td>\n",
       "    </tr>\n",
       "    <tr>\n",
       "      <th>3</th>\n",
       "      <td>1994-01-01</td>\n",
       "      <td>20.7</td>\n",
       "      <td>66.89</td>\n",
       "      <td>2095.7</td>\n",
       "      <td>4402.0</td>\n",
       "      <td>12,917</td>\n",
       "      <td>2382.16</td>\n",
       "      <td>2217.60</td>\n",
       "      <td>NaN</td>\n",
       "      <td>2.99</td>\n",
       "    </tr>\n",
       "    <tr>\n",
       "      <th>4</th>\n",
       "      <td>1995-01-01</td>\n",
       "      <td>21.3</td>\n",
       "      <td>67.85</td>\n",
       "      <td>2136.1</td>\n",
       "      <td>4557.0</td>\n",
       "      <td>13,375</td>\n",
       "      <td>2508.44</td>\n",
       "      <td>2314.84</td>\n",
       "      <td>NaN</td>\n",
       "      <td>3.49</td>\n",
       "    </tr>\n",
       "    <tr>\n",
       "      <th>5</th>\n",
       "      <td>1996-01-01</td>\n",
       "      <td>21.7</td>\n",
       "      <td>69.67</td>\n",
       "      <td>2230.0</td>\n",
       "      <td>4622.0</td>\n",
       "      <td>13,789</td>\n",
       "      <td>2548.92</td>\n",
       "      <td>2397.12</td>\n",
       "      <td>NaN</td>\n",
       "      <td>6.10</td>\n",
       "    </tr>\n",
       "    <tr>\n",
       "      <th>6</th>\n",
       "      <td>1997-01-01</td>\n",
       "      <td>22.1</td>\n",
       "      <td>71.85</td>\n",
       "      <td>2233.0</td>\n",
       "      <td>4621.0</td>\n",
       "      <td>14,121</td>\n",
       "      <td>2589.40</td>\n",
       "      <td>2381.28</td>\n",
       "      <td>NaN</td>\n",
       "      <td>7.60</td>\n",
       "    </tr>\n",
       "    <tr>\n",
       "      <th>7</th>\n",
       "      <td>1998-01-01</td>\n",
       "      <td>22.3</td>\n",
       "      <td>73.28</td>\n",
       "      <td>2284.1</td>\n",
       "      <td>4569.0</td>\n",
       "      <td>14,503</td>\n",
       "      <td>2620.64</td>\n",
       "      <td>2422.20</td>\n",
       "      <td>NaN</td>\n",
       "      <td>10.20</td>\n",
       "    </tr>\n",
       "    <tr>\n",
       "      <th>8</th>\n",
       "      <td>1999-01-01</td>\n",
       "      <td>22.4</td>\n",
       "      <td>71.83</td>\n",
       "      <td>2339.3</td>\n",
       "      <td>4499.0</td>\n",
       "      <td>14,918</td>\n",
       "      <td>2640.00</td>\n",
       "      <td>2514.16</td>\n",
       "      <td>NaN</td>\n",
       "      <td>13.60</td>\n",
       "    </tr>\n",
       "    <tr>\n",
       "      <th>9</th>\n",
       "      <td>2000-01-01</td>\n",
       "      <td>23.1</td>\n",
       "      <td>74.48</td>\n",
       "      <td>2421.8</td>\n",
       "      <td>4638.0</td>\n",
       "      <td>15,556</td>\n",
       "      <td>2714.36</td>\n",
       "      <td>2574.00</td>\n",
       "      <td>1.3</td>\n",
       "      <td>17.00</td>\n",
       "    </tr>\n",
       "    <tr>\n",
       "      <th>10</th>\n",
       "      <td>2001-01-01</td>\n",
       "      <td>23.5</td>\n",
       "      <td>74.49</td>\n",
       "      <td>2477.2</td>\n",
       "      <td>4860.0</td>\n",
       "      <td>15,789</td>\n",
       "      <td>2615.80</td>\n",
       "      <td>2645.28</td>\n",
       "      <td>1.6</td>\n",
       "      <td>24.00</td>\n",
       "    </tr>\n",
       "    <tr>\n",
       "      <th>11</th>\n",
       "      <td>2002-01-01</td>\n",
       "      <td>23.8</td>\n",
       "      <td>74.95</td>\n",
       "      <td>2518.9</td>\n",
       "      <td>4914.0</td>\n",
       "      <td>16,345</td>\n",
       "      <td>2633.84</td>\n",
       "      <td>2686.20</td>\n",
       "      <td>2.1</td>\n",
       "      <td>31.00</td>\n",
       "    </tr>\n",
       "    <tr>\n",
       "      <th>12</th>\n",
       "      <td>2003-01-01</td>\n",
       "      <td>24.9</td>\n",
       "      <td>77.57</td>\n",
       "      <td>2616.6</td>\n",
       "      <td>5263.0</td>\n",
       "      <td>16,924</td>\n",
       "      <td>2632.96</td>\n",
       "      <td>2632.52</td>\n",
       "      <td>2.6</td>\n",
       "      <td>39.00</td>\n",
       "    </tr>\n",
       "    <tr>\n",
       "      <th>13</th>\n",
       "      <td>2004-01-01</td>\n",
       "      <td>26.0</td>\n",
       "      <td>80.97</td>\n",
       "      <td>2688.5</td>\n",
       "      <td>5663.0</td>\n",
       "      <td>17,727</td>\n",
       "      <td>2797.52</td>\n",
       "      <td>2749.56</td>\n",
       "      <td>3.7</td>\n",
       "      <td>48.00</td>\n",
       "    </tr>\n",
       "    <tr>\n",
       "      <th>14</th>\n",
       "      <td>2005-01-01</td>\n",
       "      <td>27.0</td>\n",
       "      <td>82.01</td>\n",
       "      <td>2770.4</td>\n",
       "      <td>6022.0</td>\n",
       "      <td>18,454</td>\n",
       "      <td>2914.12</td>\n",
       "      <td>2757.48</td>\n",
       "      <td>5.1</td>\n",
       "      <td>59.00</td>\n",
       "    </tr>\n",
       "    <tr>\n",
       "      <th>15</th>\n",
       "      <td>2006-01-01</td>\n",
       "      <td>27.8</td>\n",
       "      <td>82.48</td>\n",
       "      <td>2869.4</td>\n",
       "      <td>6367.0</td>\n",
       "      <td>19,155</td>\n",
       "      <td>3023.68</td>\n",
       "      <td>2794.88</td>\n",
       "      <td>6.7</td>\n",
       "      <td>74.00</td>\n",
       "    </tr>\n",
       "    <tr>\n",
       "      <th>16</th>\n",
       "      <td>2007-01-01</td>\n",
       "      <td>28.9</td>\n",
       "      <td>82.29</td>\n",
       "      <td>2939.3</td>\n",
       "      <td>6644.0</td>\n",
       "      <td>20,046</td>\n",
       "      <td>3081.76</td>\n",
       "      <td>2735.92</td>\n",
       "      <td>9.2</td>\n",
       "      <td>94.00</td>\n",
       "    </tr>\n",
       "    <tr>\n",
       "      <th>17</th>\n",
       "      <td>2008-01-01</td>\n",
       "      <td>29.1</td>\n",
       "      <td>82.93</td>\n",
       "      <td>3047.2</td>\n",
       "      <td>6842.0</td>\n",
       "      <td>20,422</td>\n",
       "      <td>3201.88</td>\n",
       "      <td>2723.60</td>\n",
       "      <td>16.0</td>\n",
       "      <td>121.00</td>\n",
       "    </tr>\n",
       "    <tr>\n",
       "      <th>18</th>\n",
       "      <td>2009-01-01</td>\n",
       "      <td>28.7</td>\n",
       "      <td>81.26</td>\n",
       "      <td>2955.9</td>\n",
       "      <td>6968.0</td>\n",
       "      <td>20,265</td>\n",
       "      <td>3245.00</td>\n",
       "      <td>2702.04</td>\n",
       "      <td>23.0</td>\n",
       "      <td>159.00</td>\n",
       "    </tr>\n",
       "    <tr>\n",
       "      <th>19</th>\n",
       "      <td>2010-01-01</td>\n",
       "      <td>30.4</td>\n",
       "      <td>83.29</td>\n",
       "      <td>3150.8</td>\n",
       "      <td>7354.0</td>\n",
       "      <td>21570.7</td>\n",
       "      <td>3427.16</td>\n",
       "      <td>2755.72</td>\n",
       "      <td>40.0</td>\n",
       "      <td>198.00</td>\n",
       "    </tr>\n",
       "    <tr>\n",
       "      <th>20</th>\n",
       "      <td>2011-01-01</td>\n",
       "      <td>31.3</td>\n",
       "      <td>84.04</td>\n",
       "      <td>3258.0</td>\n",
       "      <td>7833.0</td>\n",
       "      <td>22257</td>\n",
       "      <td>3482.60</td>\n",
       "      <td>2636.92</td>\n",
       "      <td>70.0</td>\n",
       "      <td>238.00</td>\n",
       "    </tr>\n",
       "    <tr>\n",
       "      <th>21</th>\n",
       "      <td>2012-01-01</td>\n",
       "      <td>31.6</td>\n",
       "      <td>86.26</td>\n",
       "      <td>3326.8</td>\n",
       "      <td>7936.0</td>\n",
       "      <td>22806.3</td>\n",
       "      <td>3655.08</td>\n",
       "      <td>2461.80</td>\n",
       "      <td>101.0</td>\n",
       "      <td>283.00</td>\n",
       "    </tr>\n",
       "    <tr>\n",
       "      <th>22</th>\n",
       "      <td>2013-01-01</td>\n",
       "      <td>32.2</td>\n",
       "      <td>86.67</td>\n",
       "      <td>3366.1</td>\n",
       "      <td>7976.0</td>\n",
       "      <td>23435.2</td>\n",
       "      <td>3781.36</td>\n",
       "      <td>2480.72</td>\n",
       "      <td>138.0</td>\n",
       "      <td>319.00</td>\n",
       "    </tr>\n",
       "    <tr>\n",
       "      <th>23</th>\n",
       "      <td>2014-01-01</td>\n",
       "      <td>32.3</td>\n",
       "      <td>88.83</td>\n",
       "      <td>3437.9</td>\n",
       "      <td>7939.0</td>\n",
       "      <td>24031.7</td>\n",
       "      <td>3870.68</td>\n",
       "      <td>2530.00</td>\n",
       "      <td>178.0</td>\n",
       "      <td>370.00</td>\n",
       "    </tr>\n",
       "    <tr>\n",
       "      <th>24</th>\n",
       "      <td>2015-01-01</td>\n",
       "      <td>32.2</td>\n",
       "      <td>91.63</td>\n",
       "      <td>3511.7</td>\n",
       "      <td>7669.0</td>\n",
       "      <td>24270.5</td>\n",
       "      <td>3874.20</td>\n",
       "      <td>2564.32</td>\n",
       "      <td>230.0</td>\n",
       "      <td>433.00</td>\n",
       "    </tr>\n",
       "    <tr>\n",
       "      <th>25</th>\n",
       "      <td>2016-01-01</td>\n",
       "      <td>32.2</td>\n",
       "      <td>91.99</td>\n",
       "      <td>3552.1</td>\n",
       "      <td>7293.0</td>\n",
       "      <td>24915.2</td>\n",
       "      <td>4018.52</td>\n",
       "      <td>2601.28</td>\n",
       "      <td>308.0</td>\n",
       "      <td>488.00</td>\n",
       "    </tr>\n",
       "    <tr>\n",
       "      <th>26</th>\n",
       "      <td>2017-01-01</td>\n",
       "      <td>32.7</td>\n",
       "      <td>92.57</td>\n",
       "      <td>3676.2</td>\n",
       "      <td>7545.0</td>\n",
       "      <td>25623.9</td>\n",
       "      <td>4041.84</td>\n",
       "      <td>2624.16</td>\n",
       "      <td>407.0</td>\n",
       "      <td>540.00</td>\n",
       "    </tr>\n",
       "    <tr>\n",
       "      <th>27</th>\n",
       "      <td>2018-01-01</td>\n",
       "      <td>33.5</td>\n",
       "      <td>94.85</td>\n",
       "      <td>3852.9</td>\n",
       "      <td>7827.0</td>\n",
       "      <td>26659.1</td>\n",
       "      <td>4231.00</td>\n",
       "      <td>2700.46</td>\n",
       "      <td>508.0</td>\n",
       "      <td>592.00</td>\n",
       "    </tr>\n",
       "    <tr>\n",
       "      <th>28</th>\n",
       "      <td>2019-01-01</td>\n",
       "      <td>33.4</td>\n",
       "      <td>94.96</td>\n",
       "      <td>3976.2</td>\n",
       "      <td>7960.0</td>\n",
       "      <td>27001</td>\n",
       "      <td>4294.00</td>\n",
       "      <td>2796.35</td>\n",
       "      <td>629.0</td>\n",
       "      <td>651.00</td>\n",
       "    </tr>\n",
       "    <tr>\n",
       "      <th>29</th>\n",
       "      <td>2020-01-01</td>\n",
       "      <td>31.5</td>\n",
       "      <td>88.39</td>\n",
       "      <td>3853.7</td>\n",
       "      <td>7575.0</td>\n",
       "      <td>26889</td>\n",
       "      <td>4370.00</td>\n",
       "      <td>2693.98</td>\n",
       "      <td>773.2</td>\n",
       "      <td>744.00</td>\n",
       "    </tr>\n",
       "    <tr>\n",
       "      <th>30</th>\n",
       "      <td>2021-01-01</td>\n",
       "      <td>33.0</td>\n",
       "      <td>89.90</td>\n",
       "      <td>NaN</td>\n",
       "      <td>NaN</td>\n",
       "      <td>28466</td>\n",
       "      <td>4250.00</td>\n",
       "      <td>2800.27</td>\n",
       "      <td>939.0</td>\n",
       "      <td>837.00</td>\n",
       "    </tr>\n",
       "    <tr>\n",
       "      <th>31</th>\n",
       "      <td>2022-01-01</td>\n",
       "      <td>NaN</td>\n",
       "      <td>NaN</td>\n",
       "      <td>NaN</td>\n",
       "      <td>NaN</td>\n",
       "      <td>NaN</td>\n",
       "      <td>NaN</td>\n",
       "      <td>NaN</td>\n",
       "      <td>NaN</td>\n",
       "      <td>NaN</td>\n",
       "    </tr>\n",
       "  </tbody>\n",
       "</table>\n",
       "</div>"
      ],
      "text/plain": [
       "         Year  Energy Related CO2missions (Gigatonnes)  \\\n",
       "0  1991-01-01                                     20.6   \n",
       "1  1992-01-01                                     20.5   \n",
       "2  1993-01-01                                     20.6   \n",
       "3  1994-01-01                                     20.7   \n",
       "4  1995-01-01                                     21.3   \n",
       "5  1996-01-01                                     21.7   \n",
       "6  1997-01-01                                     22.1   \n",
       "7  1998-01-01                                     22.3   \n",
       "8  1999-01-01                                     22.4   \n",
       "9  2000-01-01                                     23.1   \n",
       "10 2001-01-01                                     23.5   \n",
       "11 2002-01-01                                     23.8   \n",
       "12 2003-01-01                                     24.9   \n",
       "13 2004-01-01                                     26.0   \n",
       "14 2005-01-01                                     27.0   \n",
       "15 2006-01-01                                     27.8   \n",
       "16 2007-01-01                                     28.9   \n",
       "17 2008-01-01                                     29.1   \n",
       "18 2009-01-01                                     28.7   \n",
       "19 2010-01-01                                     30.4   \n",
       "20 2011-01-01                                     31.3   \n",
       "21 2012-01-01                                     31.6   \n",
       "22 2013-01-01                                     32.2   \n",
       "23 2014-01-01                                     32.3   \n",
       "24 2015-01-01                                     32.2   \n",
       "25 2016-01-01                                     32.2   \n",
       "26 2017-01-01                                     32.7   \n",
       "27 2018-01-01                                     33.5   \n",
       "28 2019-01-01                                     33.4   \n",
       "29 2020-01-01                                     31.5   \n",
       "30 2021-01-01                                     33.0   \n",
       "31 2022-01-01                                      NaN   \n",
       "\n",
       "    Oil Production (Million barrels per day)  \\\n",
       "0                                      65.44   \n",
       "1                                      65.71   \n",
       "2                                      65.99   \n",
       "3                                      66.89   \n",
       "4                                      67.85   \n",
       "5                                      69.67   \n",
       "6                                      71.85   \n",
       "7                                      73.28   \n",
       "8                                      71.83   \n",
       "9                                      74.48   \n",
       "10                                     74.49   \n",
       "11                                     74.95   \n",
       "12                                     77.57   \n",
       "13                                     80.97   \n",
       "14                                     82.01   \n",
       "15                                     82.48   \n",
       "16                                     82.29   \n",
       "17                                     82.93   \n",
       "18                                     81.26   \n",
       "19                                     83.29   \n",
       "20                                     84.04   \n",
       "21                                     86.26   \n",
       "22                                     86.67   \n",
       "23                                     88.83   \n",
       "24                                     91.63   \n",
       "25                                     91.99   \n",
       "26                                     92.57   \n",
       "27                                     94.85   \n",
       "28                                     94.96   \n",
       "29                                     88.39   \n",
       "30                                     89.90   \n",
       "31                                       NaN   \n",
       "\n",
       "    Natural Gas Production (Billion Cubic Metres)  \\\n",
       "0                                          2026.8   \n",
       "1                                          2039.4   \n",
       "2                                          2073.5   \n",
       "3                                          2095.7   \n",
       "4                                          2136.1   \n",
       "5                                          2230.0   \n",
       "6                                          2233.0   \n",
       "7                                          2284.1   \n",
       "8                                          2339.3   \n",
       "9                                          2421.8   \n",
       "10                                         2477.2   \n",
       "11                                         2518.9   \n",
       "12                                         2616.6   \n",
       "13                                         2688.5   \n",
       "14                                         2770.4   \n",
       "15                                         2869.4   \n",
       "16                                         2939.3   \n",
       "17                                         3047.2   \n",
       "18                                         2955.9   \n",
       "19                                         3150.8   \n",
       "20                                         3258.0   \n",
       "21                                         3326.8   \n",
       "22                                         3366.1   \n",
       "23                                         3437.9   \n",
       "24                                         3511.7   \n",
       "25                                         3552.1   \n",
       "26                                         3676.2   \n",
       "27                                         3852.9   \n",
       "28                                         3976.2   \n",
       "29                                         3853.7   \n",
       "30                                            NaN   \n",
       "31                                            NaN   \n",
       "\n",
       "    Coal Production (million tons) Electricity Generation (Terawatt-hours)  \\\n",
       "0                           4481.0                                  12,218   \n",
       "1                           4432.0                                  12,330   \n",
       "2                           4327.0                                  12,592   \n",
       "3                           4402.0                                  12,917   \n",
       "4                           4557.0                                  13,375   \n",
       "5                           4622.0                                  13,789   \n",
       "6                           4621.0                                  14,121   \n",
       "7                           4569.0                                  14,503   \n",
       "8                           4499.0                                  14,918   \n",
       "9                           4638.0                                  15,556   \n",
       "10                          4860.0                                  15,789   \n",
       "11                          4914.0                                  16,345   \n",
       "12                          5263.0                                  16,924   \n",
       "13                          5663.0                                  17,727   \n",
       "14                          6022.0                                  18,454   \n",
       "15                          6367.0                                  19,155   \n",
       "16                          6644.0                                  20,046   \n",
       "17                          6842.0                                  20,422   \n",
       "18                          6968.0                                  20,265   \n",
       "19                          7354.0                                 21570.7   \n",
       "20                          7833.0                                   22257   \n",
       "21                          7936.0                                 22806.3   \n",
       "22                          7976.0                                 23435.2   \n",
       "23                          7939.0                                 24031.7   \n",
       "24                          7669.0                                 24270.5   \n",
       "25                          7293.0                                 24915.2   \n",
       "26                          7545.0                                 25623.9   \n",
       "27                          7827.0                                 26659.1   \n",
       "28                          7960.0                                   27001   \n",
       "29                          7575.0                                   26889   \n",
       "30                             NaN                                   28466   \n",
       "31                             NaN                                     NaN   \n",
       "\n",
       "    Hydroelectricity consumption in TWh  Nuclear energy consumption in TWh  \\\n",
       "0                               2247.96                            2089.56   \n",
       "1                               2240.48                            2105.40   \n",
       "2                               2364.56                            2179.32   \n",
       "3                               2382.16                            2217.60   \n",
       "4                               2508.44                            2314.84   \n",
       "5                               2548.92                            2397.12   \n",
       "6                               2589.40                            2381.28   \n",
       "7                               2620.64                            2422.20   \n",
       "8                               2640.00                            2514.16   \n",
       "9                               2714.36                            2574.00   \n",
       "10                              2615.80                            2645.28   \n",
       "11                              2633.84                            2686.20   \n",
       "12                              2632.96                            2632.52   \n",
       "13                              2797.52                            2749.56   \n",
       "14                              2914.12                            2757.48   \n",
       "15                              3023.68                            2794.88   \n",
       "16                              3081.76                            2735.92   \n",
       "17                              3201.88                            2723.60   \n",
       "18                              3245.00                            2702.04   \n",
       "19                              3427.16                            2755.72   \n",
       "20                              3482.60                            2636.92   \n",
       "21                              3655.08                            2461.80   \n",
       "22                              3781.36                            2480.72   \n",
       "23                              3870.68                            2530.00   \n",
       "24                              3874.20                            2564.32   \n",
       "25                              4018.52                            2601.28   \n",
       "26                              4041.84                            2624.16   \n",
       "27                              4231.00                            2700.46   \n",
       "28                              4294.00                            2796.35   \n",
       "29                              4370.00                            2693.98   \n",
       "30                              4250.00                            2800.27   \n",
       "31                                  NaN                                NaN   \n",
       "\n",
       "    Installed Solar Capacity (GW)  Installed Wind Capacity in GW  \n",
       "0                             NaN                           1.93  \n",
       "1                             NaN                           2.17  \n",
       "2                             NaN                           2.50  \n",
       "3                             NaN                           2.99  \n",
       "4                             NaN                           3.49  \n",
       "5                             NaN                           6.10  \n",
       "6                             NaN                           7.60  \n",
       "7                             NaN                          10.20  \n",
       "8                             NaN                          13.60  \n",
       "9                             1.3                          17.00  \n",
       "10                            1.6                          24.00  \n",
       "11                            2.1                          31.00  \n",
       "12                            2.6                          39.00  \n",
       "13                            3.7                          48.00  \n",
       "14                            5.1                          59.00  \n",
       "15                            6.7                          74.00  \n",
       "16                            9.2                          94.00  \n",
       "17                           16.0                         121.00  \n",
       "18                           23.0                         159.00  \n",
       "19                           40.0                         198.00  \n",
       "20                           70.0                         238.00  \n",
       "21                          101.0                         283.00  \n",
       "22                          138.0                         319.00  \n",
       "23                          178.0                         370.00  \n",
       "24                          230.0                         433.00  \n",
       "25                          308.0                         488.00  \n",
       "26                          407.0                         540.00  \n",
       "27                          508.0                         592.00  \n",
       "28                          629.0                         651.00  \n",
       "29                          773.2                         744.00  \n",
       "30                          939.0                         837.00  \n",
       "31                            NaN                            NaN  "
      ]
     },
     "execution_count": 3,
     "metadata": {},
     "output_type": "execute_result"
    }
   ],
   "source": [
    "dados"
   ]
  },
  {
   "cell_type": "code",
   "execution_count": 4,
   "metadata": {},
   "outputs": [],
   "source": [
    "dados =dados.drop(index= 31)"
   ]
  },
  {
   "cell_type": "markdown",
   "metadata": {},
   "source": [
    "## Analise grafica Energy Related CO2 emissions "
   ]
  },
  {
   "cell_type": "code",
   "execution_count": 152,
   "metadata": {},
   "outputs": [
    {
     "data": {
      "application/vnd.plotly.v1+json": {
       "config": {
        "plotlyServerURL": "https://plot.ly"
       },
       "data": [
        {
         "hovertemplate": "Year=%{x}<br>Energy Related CO2missions (Gigatonnes)=%{y}<extra></extra>",
         "legendgroup": "",
         "line": {
          "color": "#636efa",
          "dash": "solid"
         },
         "marker": {
          "symbol": "circle"
         },
         "mode": "lines",
         "name": "",
         "orientation": "v",
         "showlegend": false,
         "type": "scatter",
         "x": [
          "1991-01-01T00:00:00",
          "1992-01-01T00:00:00",
          "1993-01-01T00:00:00",
          "1994-01-01T00:00:00",
          "1995-01-01T00:00:00",
          "1996-01-01T00:00:00",
          "1997-01-01T00:00:00",
          "1998-01-01T00:00:00",
          "1999-01-01T00:00:00",
          "2000-01-01T00:00:00",
          "2001-01-01T00:00:00",
          "2002-01-01T00:00:00",
          "2003-01-01T00:00:00",
          "2004-01-01T00:00:00",
          "2005-01-01T00:00:00",
          "2006-01-01T00:00:00",
          "2007-01-01T00:00:00",
          "2008-01-01T00:00:00",
          "2009-01-01T00:00:00",
          "2010-01-01T00:00:00",
          "2011-01-01T00:00:00",
          "2012-01-01T00:00:00",
          "2013-01-01T00:00:00",
          "2014-01-01T00:00:00",
          "2015-01-01T00:00:00",
          "2016-01-01T00:00:00",
          "2017-01-01T00:00:00",
          "2018-01-01T00:00:00",
          "2019-01-01T00:00:00",
          "2020-01-01T00:00:00",
          "2021-01-01T00:00:00"
         ],
         "xaxis": "x",
         "y": [
          20.6,
          20.5,
          20.6,
          20.7,
          21.3,
          21.7,
          22.1,
          22.3,
          22.4,
          23.1,
          23.5,
          23.8,
          24.9,
          26,
          27,
          27.8,
          28.9,
          29.1,
          28.7,
          30.4,
          31.3,
          31.6,
          32.2,
          32.3,
          32.2,
          32.2,
          32.7,
          33.5,
          33.4,
          31.5,
          33
         ],
         "yaxis": "y"
        }
       ],
       "layout": {
        "legend": {
         "tracegroupgap": 0
        },
        "template": {
         "data": {
          "bar": [
           {
            "error_x": {
             "color": "#2a3f5f"
            },
            "error_y": {
             "color": "#2a3f5f"
            },
            "marker": {
             "line": {
              "color": "#E5ECF6",
              "width": 0.5
             },
             "pattern": {
              "fillmode": "overlay",
              "size": 10,
              "solidity": 0.2
             }
            },
            "type": "bar"
           }
          ],
          "barpolar": [
           {
            "marker": {
             "line": {
              "color": "#E5ECF6",
              "width": 0.5
             },
             "pattern": {
              "fillmode": "overlay",
              "size": 10,
              "solidity": 0.2
             }
            },
            "type": "barpolar"
           }
          ],
          "carpet": [
           {
            "aaxis": {
             "endlinecolor": "#2a3f5f",
             "gridcolor": "white",
             "linecolor": "white",
             "minorgridcolor": "white",
             "startlinecolor": "#2a3f5f"
            },
            "baxis": {
             "endlinecolor": "#2a3f5f",
             "gridcolor": "white",
             "linecolor": "white",
             "minorgridcolor": "white",
             "startlinecolor": "#2a3f5f"
            },
            "type": "carpet"
           }
          ],
          "choropleth": [
           {
            "colorbar": {
             "outlinewidth": 0,
             "ticks": ""
            },
            "type": "choropleth"
           }
          ],
          "contour": [
           {
            "colorbar": {
             "outlinewidth": 0,
             "ticks": ""
            },
            "colorscale": [
             [
              0,
              "#0d0887"
             ],
             [
              0.1111111111111111,
              "#46039f"
             ],
             [
              0.2222222222222222,
              "#7201a8"
             ],
             [
              0.3333333333333333,
              "#9c179e"
             ],
             [
              0.4444444444444444,
              "#bd3786"
             ],
             [
              0.5555555555555556,
              "#d8576b"
             ],
             [
              0.6666666666666666,
              "#ed7953"
             ],
             [
              0.7777777777777778,
              "#fb9f3a"
             ],
             [
              0.8888888888888888,
              "#fdca26"
             ],
             [
              1,
              "#f0f921"
             ]
            ],
            "type": "contour"
           }
          ],
          "contourcarpet": [
           {
            "colorbar": {
             "outlinewidth": 0,
             "ticks": ""
            },
            "type": "contourcarpet"
           }
          ],
          "heatmap": [
           {
            "colorbar": {
             "outlinewidth": 0,
             "ticks": ""
            },
            "colorscale": [
             [
              0,
              "#0d0887"
             ],
             [
              0.1111111111111111,
              "#46039f"
             ],
             [
              0.2222222222222222,
              "#7201a8"
             ],
             [
              0.3333333333333333,
              "#9c179e"
             ],
             [
              0.4444444444444444,
              "#bd3786"
             ],
             [
              0.5555555555555556,
              "#d8576b"
             ],
             [
              0.6666666666666666,
              "#ed7953"
             ],
             [
              0.7777777777777778,
              "#fb9f3a"
             ],
             [
              0.8888888888888888,
              "#fdca26"
             ],
             [
              1,
              "#f0f921"
             ]
            ],
            "type": "heatmap"
           }
          ],
          "heatmapgl": [
           {
            "colorbar": {
             "outlinewidth": 0,
             "ticks": ""
            },
            "colorscale": [
             [
              0,
              "#0d0887"
             ],
             [
              0.1111111111111111,
              "#46039f"
             ],
             [
              0.2222222222222222,
              "#7201a8"
             ],
             [
              0.3333333333333333,
              "#9c179e"
             ],
             [
              0.4444444444444444,
              "#bd3786"
             ],
             [
              0.5555555555555556,
              "#d8576b"
             ],
             [
              0.6666666666666666,
              "#ed7953"
             ],
             [
              0.7777777777777778,
              "#fb9f3a"
             ],
             [
              0.8888888888888888,
              "#fdca26"
             ],
             [
              1,
              "#f0f921"
             ]
            ],
            "type": "heatmapgl"
           }
          ],
          "histogram": [
           {
            "marker": {
             "pattern": {
              "fillmode": "overlay",
              "size": 10,
              "solidity": 0.2
             }
            },
            "type": "histogram"
           }
          ],
          "histogram2d": [
           {
            "colorbar": {
             "outlinewidth": 0,
             "ticks": ""
            },
            "colorscale": [
             [
              0,
              "#0d0887"
             ],
             [
              0.1111111111111111,
              "#46039f"
             ],
             [
              0.2222222222222222,
              "#7201a8"
             ],
             [
              0.3333333333333333,
              "#9c179e"
             ],
             [
              0.4444444444444444,
              "#bd3786"
             ],
             [
              0.5555555555555556,
              "#d8576b"
             ],
             [
              0.6666666666666666,
              "#ed7953"
             ],
             [
              0.7777777777777778,
              "#fb9f3a"
             ],
             [
              0.8888888888888888,
              "#fdca26"
             ],
             [
              1,
              "#f0f921"
             ]
            ],
            "type": "histogram2d"
           }
          ],
          "histogram2dcontour": [
           {
            "colorbar": {
             "outlinewidth": 0,
             "ticks": ""
            },
            "colorscale": [
             [
              0,
              "#0d0887"
             ],
             [
              0.1111111111111111,
              "#46039f"
             ],
             [
              0.2222222222222222,
              "#7201a8"
             ],
             [
              0.3333333333333333,
              "#9c179e"
             ],
             [
              0.4444444444444444,
              "#bd3786"
             ],
             [
              0.5555555555555556,
              "#d8576b"
             ],
             [
              0.6666666666666666,
              "#ed7953"
             ],
             [
              0.7777777777777778,
              "#fb9f3a"
             ],
             [
              0.8888888888888888,
              "#fdca26"
             ],
             [
              1,
              "#f0f921"
             ]
            ],
            "type": "histogram2dcontour"
           }
          ],
          "mesh3d": [
           {
            "colorbar": {
             "outlinewidth": 0,
             "ticks": ""
            },
            "type": "mesh3d"
           }
          ],
          "parcoords": [
           {
            "line": {
             "colorbar": {
              "outlinewidth": 0,
              "ticks": ""
             }
            },
            "type": "parcoords"
           }
          ],
          "pie": [
           {
            "automargin": true,
            "type": "pie"
           }
          ],
          "scatter": [
           {
            "fillpattern": {
             "fillmode": "overlay",
             "size": 10,
             "solidity": 0.2
            },
            "type": "scatter"
           }
          ],
          "scatter3d": [
           {
            "line": {
             "colorbar": {
              "outlinewidth": 0,
              "ticks": ""
             }
            },
            "marker": {
             "colorbar": {
              "outlinewidth": 0,
              "ticks": ""
             }
            },
            "type": "scatter3d"
           }
          ],
          "scattercarpet": [
           {
            "marker": {
             "colorbar": {
              "outlinewidth": 0,
              "ticks": ""
             }
            },
            "type": "scattercarpet"
           }
          ],
          "scattergeo": [
           {
            "marker": {
             "colorbar": {
              "outlinewidth": 0,
              "ticks": ""
             }
            },
            "type": "scattergeo"
           }
          ],
          "scattergl": [
           {
            "marker": {
             "colorbar": {
              "outlinewidth": 0,
              "ticks": ""
             }
            },
            "type": "scattergl"
           }
          ],
          "scattermapbox": [
           {
            "marker": {
             "colorbar": {
              "outlinewidth": 0,
              "ticks": ""
             }
            },
            "type": "scattermapbox"
           }
          ],
          "scatterpolar": [
           {
            "marker": {
             "colorbar": {
              "outlinewidth": 0,
              "ticks": ""
             }
            },
            "type": "scatterpolar"
           }
          ],
          "scatterpolargl": [
           {
            "marker": {
             "colorbar": {
              "outlinewidth": 0,
              "ticks": ""
             }
            },
            "type": "scatterpolargl"
           }
          ],
          "scatterternary": [
           {
            "marker": {
             "colorbar": {
              "outlinewidth": 0,
              "ticks": ""
             }
            },
            "type": "scatterternary"
           }
          ],
          "surface": [
           {
            "colorbar": {
             "outlinewidth": 0,
             "ticks": ""
            },
            "colorscale": [
             [
              0,
              "#0d0887"
             ],
             [
              0.1111111111111111,
              "#46039f"
             ],
             [
              0.2222222222222222,
              "#7201a8"
             ],
             [
              0.3333333333333333,
              "#9c179e"
             ],
             [
              0.4444444444444444,
              "#bd3786"
             ],
             [
              0.5555555555555556,
              "#d8576b"
             ],
             [
              0.6666666666666666,
              "#ed7953"
             ],
             [
              0.7777777777777778,
              "#fb9f3a"
             ],
             [
              0.8888888888888888,
              "#fdca26"
             ],
             [
              1,
              "#f0f921"
             ]
            ],
            "type": "surface"
           }
          ],
          "table": [
           {
            "cells": {
             "fill": {
              "color": "#EBF0F8"
             },
             "line": {
              "color": "white"
             }
            },
            "header": {
             "fill": {
              "color": "#C8D4E3"
             },
             "line": {
              "color": "white"
             }
            },
            "type": "table"
           }
          ]
         },
         "layout": {
          "annotationdefaults": {
           "arrowcolor": "#2a3f5f",
           "arrowhead": 0,
           "arrowwidth": 1
          },
          "autotypenumbers": "strict",
          "coloraxis": {
           "colorbar": {
            "outlinewidth": 0,
            "ticks": ""
           }
          },
          "colorscale": {
           "diverging": [
            [
             0,
             "#8e0152"
            ],
            [
             0.1,
             "#c51b7d"
            ],
            [
             0.2,
             "#de77ae"
            ],
            [
             0.3,
             "#f1b6da"
            ],
            [
             0.4,
             "#fde0ef"
            ],
            [
             0.5,
             "#f7f7f7"
            ],
            [
             0.6,
             "#e6f5d0"
            ],
            [
             0.7,
             "#b8e186"
            ],
            [
             0.8,
             "#7fbc41"
            ],
            [
             0.9,
             "#4d9221"
            ],
            [
             1,
             "#276419"
            ]
           ],
           "sequential": [
            [
             0,
             "#0d0887"
            ],
            [
             0.1111111111111111,
             "#46039f"
            ],
            [
             0.2222222222222222,
             "#7201a8"
            ],
            [
             0.3333333333333333,
             "#9c179e"
            ],
            [
             0.4444444444444444,
             "#bd3786"
            ],
            [
             0.5555555555555556,
             "#d8576b"
            ],
            [
             0.6666666666666666,
             "#ed7953"
            ],
            [
             0.7777777777777778,
             "#fb9f3a"
            ],
            [
             0.8888888888888888,
             "#fdca26"
            ],
            [
             1,
             "#f0f921"
            ]
           ],
           "sequentialminus": [
            [
             0,
             "#0d0887"
            ],
            [
             0.1111111111111111,
             "#46039f"
            ],
            [
             0.2222222222222222,
             "#7201a8"
            ],
            [
             0.3333333333333333,
             "#9c179e"
            ],
            [
             0.4444444444444444,
             "#bd3786"
            ],
            [
             0.5555555555555556,
             "#d8576b"
            ],
            [
             0.6666666666666666,
             "#ed7953"
            ],
            [
             0.7777777777777778,
             "#fb9f3a"
            ],
            [
             0.8888888888888888,
             "#fdca26"
            ],
            [
             1,
             "#f0f921"
            ]
           ]
          },
          "colorway": [
           "#636efa",
           "#EF553B",
           "#00cc96",
           "#ab63fa",
           "#FFA15A",
           "#19d3f3",
           "#FF6692",
           "#B6E880",
           "#FF97FF",
           "#FECB52"
          ],
          "font": {
           "color": "#2a3f5f"
          },
          "geo": {
           "bgcolor": "white",
           "lakecolor": "white",
           "landcolor": "#E5ECF6",
           "showlakes": true,
           "showland": true,
           "subunitcolor": "white"
          },
          "hoverlabel": {
           "align": "left"
          },
          "hovermode": "closest",
          "mapbox": {
           "style": "light"
          },
          "paper_bgcolor": "white",
          "plot_bgcolor": "#E5ECF6",
          "polar": {
           "angularaxis": {
            "gridcolor": "white",
            "linecolor": "white",
            "ticks": ""
           },
           "bgcolor": "#E5ECF6",
           "radialaxis": {
            "gridcolor": "white",
            "linecolor": "white",
            "ticks": ""
           }
          },
          "scene": {
           "xaxis": {
            "backgroundcolor": "#E5ECF6",
            "gridcolor": "white",
            "gridwidth": 2,
            "linecolor": "white",
            "showbackground": true,
            "ticks": "",
            "zerolinecolor": "white"
           },
           "yaxis": {
            "backgroundcolor": "#E5ECF6",
            "gridcolor": "white",
            "gridwidth": 2,
            "linecolor": "white",
            "showbackground": true,
            "ticks": "",
            "zerolinecolor": "white"
           },
           "zaxis": {
            "backgroundcolor": "#E5ECF6",
            "gridcolor": "white",
            "gridwidth": 2,
            "linecolor": "white",
            "showbackground": true,
            "ticks": "",
            "zerolinecolor": "white"
           }
          },
          "shapedefaults": {
           "line": {
            "color": "#2a3f5f"
           }
          },
          "ternary": {
           "aaxis": {
            "gridcolor": "white",
            "linecolor": "white",
            "ticks": ""
           },
           "baxis": {
            "gridcolor": "white",
            "linecolor": "white",
            "ticks": ""
           },
           "bgcolor": "#E5ECF6",
           "caxis": {
            "gridcolor": "white",
            "linecolor": "white",
            "ticks": ""
           }
          },
          "title": {
           "x": 0.05
          },
          "xaxis": {
           "automargin": true,
           "gridcolor": "white",
           "linecolor": "white",
           "ticks": "",
           "title": {
            "standoff": 15
           },
           "zerolinecolor": "white",
           "zerolinewidth": 2
          },
          "yaxis": {
           "automargin": true,
           "gridcolor": "white",
           "linecolor": "white",
           "ticks": "",
           "title": {
            "standoff": 15
           },
           "zerolinecolor": "white",
           "zerolinewidth": 2
          }
         }
        },
        "title": {
         "text": "Análise de Energia relacionada a emissão de CO2"
        },
        "xaxis": {
         "anchor": "y",
         "domain": [
          0,
          1
         ],
         "title": {
          "text": "Year"
         }
        },
        "yaxis": {
         "anchor": "x",
         "domain": [
          0,
          1
         ],
         "title": {
          "text": "Energy Related CO2missions (Gigatonnes)"
         }
        }
       }
      }
     },
     "metadata": {},
     "output_type": "display_data"
    }
   ],
   "source": [
    "fig = px.line(dados, x=\"Year\", y=\"Energy Related CO2missions (Gigatonnes)\", title=\"Análise de Energia relacionada a emissão de CO2\")\n",
    "\n",
    "fig"
   ]
  },
  {
   "cell_type": "code",
   "execution_count": 22,
   "metadata": {},
   "outputs": [],
   "source": [
    "df_co2 = dados.iloc[0: , 0:2]\n",
    "df_co2 = df_co2.set_index('Year')"
   ]
  },
  {
   "cell_type": "code",
   "execution_count": 106,
   "metadata": {},
   "outputs": [
    {
     "name": "stdout",
     "output_type": "stream",
     "text": [
      "Performing stepwise search to minimize aic\n",
      " ARIMA(0,0,0)(1,1,1)[5] intercept   : AIC=94.867, Time=0.14 sec\n",
      " ARIMA(0,0,0)(0,1,0)[5] intercept   : AIC=92.577, Time=0.02 sec\n",
      " ARIMA(1,0,0)(1,1,0)[5] intercept   : AIC=69.562, Time=0.12 sec\n",
      " ARIMA(0,0,1)(0,1,1)[5] intercept   : AIC=inf, Time=0.23 sec\n",
      " ARIMA(0,0,0)(0,1,0)[5]             : AIC=126.977, Time=0.01 sec\n",
      " ARIMA(1,0,0)(0,1,0)[5] intercept   : AIC=68.349, Time=0.03 sec\n",
      " ARIMA(1,0,0)(0,1,1)[5] intercept   : AIC=68.687, Time=0.11 sec\n",
      " ARIMA(1,0,0)(1,1,1)[5] intercept   : AIC=inf, Time=0.28 sec\n",
      " ARIMA(2,0,0)(0,1,0)[5] intercept   : AIC=70.193, Time=0.04 sec\n",
      " ARIMA(1,0,1)(0,1,0)[5] intercept   : AIC=inf, Time=0.11 sec\n",
      " ARIMA(0,0,1)(0,1,0)[5] intercept   : AIC=inf, Time=0.11 sec\n",
      " ARIMA(2,0,1)(0,1,0)[5] intercept   : AIC=inf, Time=0.14 sec\n",
      " ARIMA(1,0,0)(0,1,0)[5]             : AIC=68.852, Time=0.02 sec\n",
      "\n",
      "Best model:  ARIMA(1,0,0)(0,1,0)[5] intercept\n",
      "Total fit time: 1.368 seconds\n"
     ]
    }
   ],
   "source": [
    "stepwise=auto_arima(df_co2[['Energy Related CO2missions (Gigatonnes)']], start_p=0, start_q=0, d=0, max_p=6, max_q=6, max_d=7, start_P=1, start_Q=1, D=1, max_P=2, max_D=6, max_Q=2, max_order=7, m=5, seasonal=True, trace=True, error_action='ignore',suppress_warnings=True, stepwise=True)\n"
   ]
  },
  {
   "cell_type": "code",
   "execution_count": 107,
   "metadata": {},
   "outputs": [
    {
     "data": {
      "text/html": [
       "<style>#sk-container-id-7 {color: black;background-color: white;}#sk-container-id-7 pre{padding: 0;}#sk-container-id-7 div.sk-toggleable {background-color: white;}#sk-container-id-7 label.sk-toggleable__label {cursor: pointer;display: block;width: 100%;margin-bottom: 0;padding: 0.3em;box-sizing: border-box;text-align: center;}#sk-container-id-7 label.sk-toggleable__label-arrow:before {content: \"▸\";float: left;margin-right: 0.25em;color: #696969;}#sk-container-id-7 label.sk-toggleable__label-arrow:hover:before {color: black;}#sk-container-id-7 div.sk-estimator:hover label.sk-toggleable__label-arrow:before {color: black;}#sk-container-id-7 div.sk-toggleable__content {max-height: 0;max-width: 0;overflow: hidden;text-align: left;background-color: #f0f8ff;}#sk-container-id-7 div.sk-toggleable__content pre {margin: 0.2em;color: black;border-radius: 0.25em;background-color: #f0f8ff;}#sk-container-id-7 input.sk-toggleable__control:checked~div.sk-toggleable__content {max-height: 200px;max-width: 100%;overflow: auto;}#sk-container-id-7 input.sk-toggleable__control:checked~label.sk-toggleable__label-arrow:before {content: \"▾\";}#sk-container-id-7 div.sk-estimator input.sk-toggleable__control:checked~label.sk-toggleable__label {background-color: #d4ebff;}#sk-container-id-7 div.sk-label input.sk-toggleable__control:checked~label.sk-toggleable__label {background-color: #d4ebff;}#sk-container-id-7 input.sk-hidden--visually {border: 0;clip: rect(1px 1px 1px 1px);clip: rect(1px, 1px, 1px, 1px);height: 1px;margin: -1px;overflow: hidden;padding: 0;position: absolute;width: 1px;}#sk-container-id-7 div.sk-estimator {font-family: monospace;background-color: #f0f8ff;border: 1px dotted black;border-radius: 0.25em;box-sizing: border-box;margin-bottom: 0.5em;}#sk-container-id-7 div.sk-estimator:hover {background-color: #d4ebff;}#sk-container-id-7 div.sk-parallel-item::after {content: \"\";width: 100%;border-bottom: 1px solid gray;flex-grow: 1;}#sk-container-id-7 div.sk-label:hover label.sk-toggleable__label {background-color: #d4ebff;}#sk-container-id-7 div.sk-serial::before {content: \"\";position: absolute;border-left: 1px solid gray;box-sizing: border-box;top: 0;bottom: 0;left: 50%;z-index: 0;}#sk-container-id-7 div.sk-serial {display: flex;flex-direction: column;align-items: center;background-color: white;padding-right: 0.2em;padding-left: 0.2em;position: relative;}#sk-container-id-7 div.sk-item {position: relative;z-index: 1;}#sk-container-id-7 div.sk-parallel {display: flex;align-items: stretch;justify-content: center;background-color: white;position: relative;}#sk-container-id-7 div.sk-item::before, #sk-container-id-7 div.sk-parallel-item::before {content: \"\";position: absolute;border-left: 1px solid gray;box-sizing: border-box;top: 0;bottom: 0;left: 50%;z-index: -1;}#sk-container-id-7 div.sk-parallel-item {display: flex;flex-direction: column;z-index: 1;position: relative;background-color: white;}#sk-container-id-7 div.sk-parallel-item:first-child::after {align-self: flex-end;width: 50%;}#sk-container-id-7 div.sk-parallel-item:last-child::after {align-self: flex-start;width: 50%;}#sk-container-id-7 div.sk-parallel-item:only-child::after {width: 0;}#sk-container-id-7 div.sk-dashed-wrapped {border: 1px dashed gray;margin: 0 0.4em 0.5em 0.4em;box-sizing: border-box;padding-bottom: 0.4em;background-color: white;}#sk-container-id-7 div.sk-label label {font-family: monospace;font-weight: bold;display: inline-block;line-height: 1.2em;}#sk-container-id-7 div.sk-label-container {text-align: center;}#sk-container-id-7 div.sk-container {/* jupyter's `normalize.less` sets `[hidden] { display: none; }` but bootstrap.min.css set `[hidden] { display: none !important; }` so we also need the `!important` here to be able to override the default hidden behavior on the sphinx rendered scikit-learn.org. See: https://github.com/scikit-learn/scikit-learn/issues/21755 */display: inline-block !important;position: relative;}#sk-container-id-7 div.sk-text-repr-fallback {display: none;}</style><div id=\"sk-container-id-7\" class=\"sk-top-container\"><div class=\"sk-text-repr-fallback\"><pre> ARIMA(1,0,0)(0,1,0)[5] intercept</pre><b>In a Jupyter environment, please rerun this cell to show the HTML representation or trust the notebook. <br />On GitHub, the HTML representation is unable to render, please try loading this page with nbviewer.org.</b></div><div class=\"sk-container\" hidden><div class=\"sk-item\"><div class=\"sk-estimator sk-toggleable\"><input class=\"sk-toggleable__control sk-hidden--visually\" id=\"sk-estimator-id-7\" type=\"checkbox\" checked><label for=\"sk-estimator-id-7\" class=\"sk-toggleable__label sk-toggleable__label-arrow\">ARIMA</label><div class=\"sk-toggleable__content\"><pre> ARIMA(1,0,0)(0,1,0)[5] intercept</pre></div></div></div></div></div>"
      ],
      "text/plain": [
       "ARIMA(order=(1, 0, 0), scoring_args={}, seasonal_order=(0, 1, 0, 5),\n",
       "      suppress_warnings=True)"
      ]
     },
     "execution_count": 107,
     "metadata": {},
     "output_type": "execute_result"
    }
   ],
   "source": [
    "stepwise"
   ]
  },
  {
   "cell_type": "code",
   "execution_count": 99,
   "metadata": {},
   "outputs": [
    {
     "name": "stdout",
     "output_type": "stream",
     "text": [
      "65.82876014998342\n",
      "71.15757819068423\n"
     ]
    }
   ],
   "source": [
    "print(stepwise.aic())\n",
    "print(stepwise.bic())"
   ]
  },
  {
   "cell_type": "code",
   "execution_count": 34,
   "metadata": {},
   "outputs": [
    {
     "data": {
      "text/html": [
       "<div>\n",
       "<style scoped>\n",
       "    .dataframe tbody tr th:only-of-type {\n",
       "        vertical-align: middle;\n",
       "    }\n",
       "\n",
       "    .dataframe tbody tr th {\n",
       "        vertical-align: top;\n",
       "    }\n",
       "\n",
       "    .dataframe thead th {\n",
       "        text-align: right;\n",
       "    }\n",
       "</style>\n",
       "<table border=\"1\" class=\"dataframe\">\n",
       "  <thead>\n",
       "    <tr style=\"text-align: right;\">\n",
       "      <th></th>\n",
       "      <th>Energy Related CO2missions (Gigatonnes)</th>\n",
       "    </tr>\n",
       "    <tr>\n",
       "      <th>Year</th>\n",
       "      <th></th>\n",
       "    </tr>\n",
       "  </thead>\n",
       "  <tbody>\n",
       "    <tr>\n",
       "      <th>1991-01-01</th>\n",
       "      <td>20.6</td>\n",
       "    </tr>\n",
       "    <tr>\n",
       "      <th>1992-01-01</th>\n",
       "      <td>20.5</td>\n",
       "    </tr>\n",
       "    <tr>\n",
       "      <th>1993-01-01</th>\n",
       "      <td>20.6</td>\n",
       "    </tr>\n",
       "    <tr>\n",
       "      <th>1994-01-01</th>\n",
       "      <td>20.7</td>\n",
       "    </tr>\n",
       "    <tr>\n",
       "      <th>1995-01-01</th>\n",
       "      <td>21.3</td>\n",
       "    </tr>\n",
       "    <tr>\n",
       "      <th>1996-01-01</th>\n",
       "      <td>21.7</td>\n",
       "    </tr>\n",
       "    <tr>\n",
       "      <th>1997-01-01</th>\n",
       "      <td>22.1</td>\n",
       "    </tr>\n",
       "    <tr>\n",
       "      <th>1998-01-01</th>\n",
       "      <td>22.3</td>\n",
       "    </tr>\n",
       "    <tr>\n",
       "      <th>1999-01-01</th>\n",
       "      <td>22.4</td>\n",
       "    </tr>\n",
       "    <tr>\n",
       "      <th>2000-01-01</th>\n",
       "      <td>23.1</td>\n",
       "    </tr>\n",
       "    <tr>\n",
       "      <th>2001-01-01</th>\n",
       "      <td>23.5</td>\n",
       "    </tr>\n",
       "    <tr>\n",
       "      <th>2002-01-01</th>\n",
       "      <td>23.8</td>\n",
       "    </tr>\n",
       "    <tr>\n",
       "      <th>2003-01-01</th>\n",
       "      <td>24.9</td>\n",
       "    </tr>\n",
       "    <tr>\n",
       "      <th>2004-01-01</th>\n",
       "      <td>26.0</td>\n",
       "    </tr>\n",
       "    <tr>\n",
       "      <th>2005-01-01</th>\n",
       "      <td>27.0</td>\n",
       "    </tr>\n",
       "    <tr>\n",
       "      <th>2006-01-01</th>\n",
       "      <td>27.8</td>\n",
       "    </tr>\n",
       "    <tr>\n",
       "      <th>2007-01-01</th>\n",
       "      <td>28.9</td>\n",
       "    </tr>\n",
       "    <tr>\n",
       "      <th>2008-01-01</th>\n",
       "      <td>29.1</td>\n",
       "    </tr>\n",
       "    <tr>\n",
       "      <th>2009-01-01</th>\n",
       "      <td>28.7</td>\n",
       "    </tr>\n",
       "    <tr>\n",
       "      <th>2010-01-01</th>\n",
       "      <td>30.4</td>\n",
       "    </tr>\n",
       "  </tbody>\n",
       "</table>\n",
       "</div>"
      ],
      "text/plain": [
       "            Energy Related CO2missions (Gigatonnes)\n",
       "Year                                               \n",
       "1991-01-01                                     20.6\n",
       "1992-01-01                                     20.5\n",
       "1993-01-01                                     20.6\n",
       "1994-01-01                                     20.7\n",
       "1995-01-01                                     21.3\n",
       "1996-01-01                                     21.7\n",
       "1997-01-01                                     22.1\n",
       "1998-01-01                                     22.3\n",
       "1999-01-01                                     22.4\n",
       "2000-01-01                                     23.1\n",
       "2001-01-01                                     23.5\n",
       "2002-01-01                                     23.8\n",
       "2003-01-01                                     24.9\n",
       "2004-01-01                                     26.0\n",
       "2005-01-01                                     27.0\n",
       "2006-01-01                                     27.8\n",
       "2007-01-01                                     28.9\n",
       "2008-01-01                                     29.1\n",
       "2009-01-01                                     28.7\n",
       "2010-01-01                                     30.4"
      ]
     },
     "execution_count": 34,
     "metadata": {},
     "output_type": "execute_result"
    }
   ],
   "source": [
    "treino = df_co2[['Energy Related CO2missions (Gigatonnes)']].loc['1991-01-01':'2010-01-01']\n",
    "treino"
   ]
  },
  {
   "cell_type": "code",
   "execution_count": 100,
   "metadata": {},
   "outputs": [
    {
     "data": {
      "text/html": [
       "<div>\n",
       "<style scoped>\n",
       "    .dataframe tbody tr th:only-of-type {\n",
       "        vertical-align: middle;\n",
       "    }\n",
       "\n",
       "    .dataframe tbody tr th {\n",
       "        vertical-align: top;\n",
       "    }\n",
       "\n",
       "    .dataframe thead th {\n",
       "        text-align: right;\n",
       "    }\n",
       "</style>\n",
       "<table border=\"1\" class=\"dataframe\">\n",
       "  <thead>\n",
       "    <tr style=\"text-align: right;\">\n",
       "      <th></th>\n",
       "      <th>Energy Related CO2missions (Gigatonnes)</th>\n",
       "    </tr>\n",
       "    <tr>\n",
       "      <th>Year</th>\n",
       "      <th></th>\n",
       "    </tr>\n",
       "  </thead>\n",
       "  <tbody>\n",
       "    <tr>\n",
       "      <th>2011-01-01</th>\n",
       "      <td>31.3</td>\n",
       "    </tr>\n",
       "    <tr>\n",
       "      <th>2012-01-01</th>\n",
       "      <td>31.6</td>\n",
       "    </tr>\n",
       "    <tr>\n",
       "      <th>2013-01-01</th>\n",
       "      <td>32.2</td>\n",
       "    </tr>\n",
       "    <tr>\n",
       "      <th>2014-01-01</th>\n",
       "      <td>32.3</td>\n",
       "    </tr>\n",
       "    <tr>\n",
       "      <th>2015-01-01</th>\n",
       "      <td>32.2</td>\n",
       "    </tr>\n",
       "    <tr>\n",
       "      <th>2016-01-01</th>\n",
       "      <td>32.2</td>\n",
       "    </tr>\n",
       "    <tr>\n",
       "      <th>2017-01-01</th>\n",
       "      <td>32.7</td>\n",
       "    </tr>\n",
       "    <tr>\n",
       "      <th>2018-01-01</th>\n",
       "      <td>33.5</td>\n",
       "    </tr>\n",
       "    <tr>\n",
       "      <th>2019-01-01</th>\n",
       "      <td>33.4</td>\n",
       "    </tr>\n",
       "    <tr>\n",
       "      <th>2020-01-01</th>\n",
       "      <td>31.5</td>\n",
       "    </tr>\n",
       "    <tr>\n",
       "      <th>2021-01-01</th>\n",
       "      <td>33.0</td>\n",
       "    </tr>\n",
       "  </tbody>\n",
       "</table>\n",
       "</div>"
      ],
      "text/plain": [
       "            Energy Related CO2missions (Gigatonnes)\n",
       "Year                                               \n",
       "2011-01-01                                     31.3\n",
       "2012-01-01                                     31.6\n",
       "2013-01-01                                     32.2\n",
       "2014-01-01                                     32.3\n",
       "2015-01-01                                     32.2\n",
       "2016-01-01                                     32.2\n",
       "2017-01-01                                     32.7\n",
       "2018-01-01                                     33.5\n",
       "2019-01-01                                     33.4\n",
       "2020-01-01                                     31.5\n",
       "2021-01-01                                     33.0"
      ]
     },
     "execution_count": 100,
     "metadata": {},
     "output_type": "execute_result"
    }
   ],
   "source": [
    "teste = df_co2[['Energy Related CO2missions (Gigatonnes)']].loc['2011-01-01':'2021-01-01']\n",
    "teste"
   ]
  },
  {
   "cell_type": "code",
   "execution_count": 108,
   "metadata": {},
   "outputs": [
    {
     "data": {
      "text/html": [
       "<div>\n",
       "<style scoped>\n",
       "    .dataframe tbody tr th:only-of-type {\n",
       "        vertical-align: middle;\n",
       "    }\n",
       "\n",
       "    .dataframe tbody tr th {\n",
       "        vertical-align: top;\n",
       "    }\n",
       "\n",
       "    .dataframe thead th {\n",
       "        text-align: right;\n",
       "    }\n",
       "</style>\n",
       "<table border=\"1\" class=\"dataframe\">\n",
       "  <thead>\n",
       "    <tr style=\"text-align: right;\">\n",
       "      <th></th>\n",
       "      <th>previsão</th>\n",
       "    </tr>\n",
       "    <tr>\n",
       "      <th>Year</th>\n",
       "      <th></th>\n",
       "    </tr>\n",
       "  </thead>\n",
       "  <tbody>\n",
       "    <tr>\n",
       "      <th>2011-01-01</th>\n",
       "      <td>31.063722</td>\n",
       "    </tr>\n",
       "    <tr>\n",
       "      <th>2012-01-01</th>\n",
       "      <td>32.049061</td>\n",
       "    </tr>\n",
       "    <tr>\n",
       "      <th>2013-01-01</th>\n",
       "      <td>32.152588</td>\n",
       "    </tr>\n",
       "    <tr>\n",
       "      <th>2014-01-01</th>\n",
       "      <td>31.671417</td>\n",
       "    </tr>\n",
       "    <tr>\n",
       "      <th>2015-01-01</th>\n",
       "      <td>33.303122</td>\n",
       "    </tr>\n",
       "    <tr>\n",
       "      <th>2016-01-01</th>\n",
       "      <td>33.909382</td>\n",
       "    </tr>\n",
       "    <tr>\n",
       "      <th>2017-01-01</th>\n",
       "      <td>34.846374</td>\n",
       "    </tr>\n",
       "    <tr>\n",
       "      <th>2018-01-01</th>\n",
       "      <td>34.909223</td>\n",
       "    </tr>\n",
       "    <tr>\n",
       "      <th>2019-01-01</th>\n",
       "      <td>34.393826</td>\n",
       "    </tr>\n",
       "    <tr>\n",
       "      <th>2020-01-01</th>\n",
       "      <td>35.996735</td>\n",
       "    </tr>\n",
       "    <tr>\n",
       "      <th>2021-01-01</th>\n",
       "      <td>36.578766</td>\n",
       "    </tr>\n",
       "  </tbody>\n",
       "</table>\n",
       "</div>"
      ],
      "text/plain": [
       "             previsão\n",
       "Year                 \n",
       "2011-01-01  31.063722\n",
       "2012-01-01  32.049061\n",
       "2013-01-01  32.152588\n",
       "2014-01-01  31.671417\n",
       "2015-01-01  33.303122\n",
       "2016-01-01  33.909382\n",
       "2017-01-01  34.846374\n",
       "2018-01-01  34.909223\n",
       "2019-01-01  34.393826\n",
       "2020-01-01  35.996735\n",
       "2021-01-01  36.578766"
      ]
     },
     "execution_count": 108,
     "metadata": {},
     "output_type": "execute_result"
    }
   ],
   "source": [
    "stepwise.fit(treino)\n",
    "previsao =stepwise.predict(n_periods=11)\n",
    "previsao = pd.DataFrame(previsao,index=teste.index, columns=['previsão'])\n",
    "previsao"
   ]
  },
  {
   "cell_type": "code",
   "execution_count": 109,
   "metadata": {},
   "outputs": [
    {
     "data": {
      "text/plain": [
       "<matplotlib.legend.Legend at 0x1bdf28a7100>"
      ]
     },
     "execution_count": 109,
     "metadata": {},
     "output_type": "execute_result"
    },
    {
     "data": {
      "text/plain": [
       "<Figure size 1440x360 with 0 Axes>"
      ]
     },
     "metadata": {},
     "output_type": "display_data"
    },
    {
     "data": {
      "image/png": "[encoded data removed]",
      "text/plain": [
       "<Figure size 1440x360 with 1 Axes>"
      ]
     },
     "metadata": {
      "needs_background": "light"
     },
     "output_type": "display_data"
    }
   ],
   "source": [
    "plt.figure(figsize=(20,5))\n",
    "pd.concat([teste,previsao],axis=1).plot(figsize=(20,5))\n",
    "plt.xlabel('')\n",
    "plt.title('Previsões X Real',size=15)\n",
    "plt.xlabel(\"Período\", size=15)\n",
    "plt.legend(['Valor real','previsão 1'])"
   ]
  },
  {
   "cell_type": "code",
   "execution_count": 110,
   "metadata": {},
   "outputs": [
    {
     "data": {
      "image/png": "[encoded data removed]",
      "text/plain": [
       "<Figure size 1440x504 with 1 Axes>"
      ]
     },
     "metadata": {
      "needs_background": "light"
     },
     "output_type": "display_data"
    }
   ],
   "source": [
    "pd.concat([df_co2[['Energy Related CO2missions (Gigatonnes)']],previsao], axis=1).plot(linewidth=2, figsize=(20,7), color=['b','r'])\n",
    "plt.legend(['Casos registrados','Previsões'], fontsize=20)\n",
    "plt.xlabel('Periodo', size=20)\n",
    "plt.title('Previsão X Real',size=15)\n",
    "plt.show()"
   ]
  },
  {
   "cell_type": "code",
   "execution_count": 150,
   "metadata": {},
   "outputs": [],
   "source": [
    "stepwise.fit(df_co2[['Energy Related CO2missions (Gigatonnes)']])\n",
    "\n",
    "previsao2 = stepwise.predict(n_periods=12)\n",
    "\n",
    "previsao2 = pd.DataFrame(previsao2, \n",
    "                              index=pd.date_range(start='2021', end='2031'), columns=['nova previsão'])"
   ]
  },
  {
   "cell_type": "code",
   "execution_count": 151,
   "metadata": {},
   "outputs": [
    {
     "data": {
      "text/html": [
       "<div>\n",
       "<style scoped>\n",
       "    .dataframe tbody tr th:only-of-type {\n",
       "        vertical-align: middle;\n",
       "    }\n",
       "\n",
       "    .dataframe tbody tr th {\n",
       "        vertical-align: top;\n",
       "    }\n",
       "\n",
       "    .dataframe thead th {\n",
       "        text-align: right;\n",
       "    }\n",
       "</style>\n",
       "<table border=\"1\" class=\"dataframe\">\n",
       "  <thead>\n",
       "    <tr style=\"text-align: right;\">\n",
       "      <th></th>\n",
       "      <th>nova previsão</th>\n",
       "    </tr>\n",
       "  </thead>\n",
       "  <tbody>\n",
       "    <tr>\n",
       "      <th>2022-01-01</th>\n",
       "      <td>33.728140</td>\n",
       "    </tr>\n",
       "    <tr>\n",
       "      <th>2023-01-01</th>\n",
       "      <td>34.712448</td>\n",
       "    </tr>\n",
       "    <tr>\n",
       "      <th>2024-01-01</th>\n",
       "      <td>34.761346</td>\n",
       "    </tr>\n",
       "    <tr>\n",
       "      <th>2025-01-01</th>\n",
       "      <td>32.981637</td>\n",
       "    </tr>\n",
       "    <tr>\n",
       "      <th>2026-01-01</th>\n",
       "      <td>34.578817</td>\n",
       "    </tr>\n",
       "    <tr>\n",
       "      <th>2027-01-01</th>\n",
       "      <td>35.385466</td>\n",
       "    </tr>\n",
       "    <tr>\n",
       "      <th>2028-01-01</th>\n",
       "      <td>36.433200</td>\n",
       "    </tr>\n",
       "    <tr>\n",
       "      <th>2029-01-01</th>\n",
       "      <td>36.533339</td>\n",
       "    </tr>\n",
       "    <tr>\n",
       "      <th>2030-01-01</th>\n",
       "      <td>34.795025</td>\n",
       "    </tr>\n",
       "    <tr>\n",
       "      <th>2031-01-01</th>\n",
       "      <td>36.425648</td>\n",
       "    </tr>\n",
       "  </tbody>\n",
       "</table>\n",
       "</div>"
      ],
      "text/plain": [
       "            nova previsão\n",
       "2022-01-01      33.728140\n",
       "2023-01-01      34.712448\n",
       "2024-01-01      34.761346\n",
       "2025-01-01      32.981637\n",
       "2026-01-01      34.578817\n",
       "2027-01-01      35.385466\n",
       "2028-01-01      36.433200\n",
       "2029-01-01      36.533339\n",
       "2030-01-01      34.795025\n",
       "2031-01-01      36.425648"
      ]
     },
     "execution_count": 151,
     "metadata": {},
     "output_type": "execute_result"
    }
   ],
   "source": [
    "previsao2 = previsao2.dropna()\n",
    "previsao2\n"
   ]
  },
  {
   "cell_type": "code",
   "execution_count": 146,
   "metadata": {},
   "outputs": [
    {
     "data": {
      "text/plain": [
       "<Figure size 1440x360 with 0 Axes>"
      ]
     },
     "metadata": {},
     "output_type": "display_data"
    },
    {
     "data": {
      "image/png": "[encoded data removed]",
      "text/plain": [
       "<Figure size 1440x360 with 1 Axes>"
      ]
     },
     "metadata": {
      "needs_background": "light"
     },
     "output_type": "display_data"
    }
   ],
   "source": [
    "plt.figure(figsize=(20,5))\n",
    "pd.concat([df_co2[['Energy Related CO2missions (Gigatonnes)']],previsao2],axis=1).plot(figsize=(20,5))\n",
    "plt.xlabel('')\n",
    "plt.title('Série total e novas previsões',size=15)\n",
    "plt.legend(['Série total','Previsões'])\n",
    "plt.show()"
   ]
  },
  {
   "cell_type": "code",
   "execution_count": null,
   "metadata": {},
   "outputs": [],
   "source": []
  }
 ],
 "metadata": {
  "kernelspec": {
   "display_name": "Python 3.10.5 64-bit",
   "language": "python",
   "name": "python3"
  },
  "language_info": {
   "codemirror_mode": {
    "name": "ipython",
    "version": 3
   },
   "file_extension": ".py",
   "mimetype": "text/x-python",
   "name": "python",
   "nbconvert_exporter": "python",
   "pygments_lexer": "ipython3",
   "version": "3.10.5"
  },
  "orig_nbformat": 4,
  "vscode": {
   "interpreter": {
    "hash": "83b617c66aa9ed92efeb8629453f4b5eb61ab11a86f5ad7ba589d02897e9d812"
   }
  }
 },
 "nbformat": 4,
 "nbformat_minor": 2
}
